{
 "cells": [
  {
   "cell_type": "code",
   "execution_count": 2,
   "id": "549a8bda",
   "metadata": {},
   "outputs": [],
   "source": [
    "import os\n",
    "from biominer_llm import LLMConfig, init_llm"
   ]
  },
  {
   "cell_type": "markdown",
   "id": "c41e6a22",
   "metadata": {},
   "source": [
    "## load config from .env file"
   ]
  },
  {
   "cell_type": "code",
   "execution_count": null,
   "id": "f46d843a",
   "metadata": {},
   "outputs": [
    {
     "data": {
      "text/plain": [
       "AIMessage(content='我喜欢编程。', additional_kwargs={'refusal': None}, response_metadata={'token_usage': {'completion_tokens': 5, 'prompt_tokens': 28, 'total_tokens': 33, 'completion_tokens_details': {'accepted_prediction_tokens': 0, 'audio_tokens': 0, 'reasoning_tokens': 0, 'rejected_prediction_tokens': 0}, 'prompt_tokens_details': {'audio_tokens': 0, 'cached_tokens': 0}}, 'model_name': 'gpt-4o-mini-2024-07-18', 'system_fingerprint': 'fp_34a54ae93c', 'id': 'chatcmpl-C2KUdE4SnpsClDDwhSzZN7bHRfV3O', 'service_tier': 'default', 'finish_reason': 'stop', 'logprobs': None}, id='run--77fa21d1-3238-4ecf-a720-e6547a843362-0', usage_metadata={'input_tokens': 28, 'output_tokens': 5, 'total_tokens': 33, 'input_token_details': {'audio': 0, 'cache_read': 0}, 'output_token_details': {'audio': 0, 'reasoning': 0}})"
      ]
     },
     "execution_count": 3,
     "metadata": {},
     "output_type": "execute_result"
    }
   ],
   "source": [
    "messages = [\n",
    "    (\n",
    "        \"system\",\n",
    "        \"You are a helpful translator. Translate the user sentence to Chinese.\",\n",
    "    ),\n",
    "    (\"human\", \"I love programming.\"),\n",
    "]\n",
    "\n",
    "llm = init_llm()\n",
    "llm.invoke(messages)"
   ]
  },
  {
   "cell_type": "markdown",
   "id": "8d45d00d",
   "metadata": {},
   "source": [
    "## manually config "
   ]
  },
  {
   "cell_type": "code",
   "execution_count": 4,
   "id": "675a9521",
   "metadata": {},
   "outputs": [
    {
     "data": {
      "text/plain": [
       "AIMessage(content='我爱编程。', additional_kwargs={'refusal': None}, response_metadata={'token_usage': {'completion_tokens': 5, 'prompt_tokens': 28, 'total_tokens': 33, 'completion_tokens_details': {'accepted_prediction_tokens': 0, 'audio_tokens': 0, 'reasoning_tokens': 0, 'rejected_prediction_tokens': 0}, 'prompt_tokens_details': {'audio_tokens': 0, 'cached_tokens': 0}}, 'model_name': 'gpt-4o-mini-2024-07-18', 'system_fingerprint': 'fp_34a54ae93c', 'id': 'chatcmpl-C2KY7mPVJjpaCK8LPsOOJP5m5jVEP', 'service_tier': 'default', 'finish_reason': 'stop', 'logprobs': None}, id='run--1b2912fb-fe29-4eda-910d-bcd11521c62c-0', usage_metadata={'input_tokens': 28, 'output_tokens': 5, 'total_tokens': 33, 'input_token_details': {'audio': 0, 'cache_read': 0}, 'output_token_details': {'audio': 0, 'reasoning': 0}})"
      ]
     },
     "execution_count": 4,
     "metadata": {},
     "output_type": "execute_result"
    }
   ],
   "source": [
    "messages = [\n",
    "    (\n",
    "        \"system\",\n",
    "        \"You are a helpful translator. Translate the user sentence to Chinese.\",\n",
    "    ),\n",
    "    (\"human\", \"I love programming.\"),\n",
    "]\n",
    "\n",
    "config = LLMConfig(provider=\"openai\", model=\"gpt-4o-mini\")\n",
    "\n",
    "llm = init_llm(config=config)\n",
    "llm.invoke(messages)"
   ]
  },
  {
   "cell_type": "markdown",
   "id": "a20da4d0",
   "metadata": {},
   "source": [
    "## config with custom llm provider base_url"
   ]
  },
  {
   "cell_type": "code",
   "execution_count": null,
   "id": "55355bae",
   "metadata": {},
   "outputs": [
    {
     "data": {
      "text/plain": [
       "AIMessage(content='我喜欢编程。', additional_kwargs={'refusal': None}, response_metadata={'token_usage': {'completion_tokens': 93, 'prompt_tokens': 24, 'total_tokens': 117, 'completion_tokens_details': None, 'prompt_tokens_details': {'audio_tokens': None, 'cached_tokens': 0}}, 'model_name': 'glm-4.5', 'system_fingerprint': None, 'id': '20250809004946ae63732558054226', 'service_tier': None, 'finish_reason': 'stop', 'logprobs': None}, id='run--3bdd96fd-008f-4a9f-b35f-1930deccfa6a-0', usage_metadata={'input_tokens': 24, 'output_tokens': 93, 'total_tokens': 117, 'input_token_details': {'cache_read': 0}, 'output_token_details': {}})"
      ]
     },
     "execution_count": 5,
     "metadata": {},
     "output_type": "execute_result"
    }
   ],
   "source": [
    "messages = [\n",
    "    (\n",
    "        \"system\",\n",
    "        \"You are a helpful translator. Translate the user sentence to Chinese.\",\n",
    "    ),\n",
    "    (\"human\", \"I love programming.\"),\n",
    "]\n",
    "\n",
    "config = LLMConfig(\n",
    "    model=\"glm-4.5\",\n",
    "    base_url=\"https://open.bigmodel.cn/api/paas/v4/\",\n",
    "    api_key=os.getenv(\"BIOMINER_AI_LLM_API_KEY\"),\n",
    ")\n",
    "\n",
    "llm = init_llm(config=config)\n",
    "llm.invoke(messages)"
   ]
  }
 ],
 "metadata": {
  "kernelspec": {
   "display_name": "biominer",
   "language": "python",
   "name": "biominer"
  },
  "language_info": {
   "codemirror_mode": {
    "name": "ipython",
    "version": 3
   },
   "file_extension": ".py",
   "mimetype": "text/x-python",
   "name": "python",
   "nbconvert_exporter": "python",
   "pygments_lexer": "ipython3",
   "version": "3.13.0"
  }
 },
 "nbformat": 4,
 "nbformat_minor": 5
}
