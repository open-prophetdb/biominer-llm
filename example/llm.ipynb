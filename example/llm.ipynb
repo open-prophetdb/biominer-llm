{
 "cells": [
  {
   "cell_type": "code",
   "execution_count": 1,
   "id": "549a8bda",
   "metadata": {},
   "outputs": [],
   "source": [
    "import os\n",
    "from biominer_llm import LLMConfig, init_llm"
   ]
  },
  {
   "cell_type": "markdown",
   "id": "c41e6a22",
   "metadata": {},
   "source": [
    "## load config from .env file"
   ]
  },
  {
   "cell_type": "code",
   "execution_count": null,
   "id": "f46d843a",
   "metadata": {},
   "outputs": [],
   "source": [
    "messages = [\n",
    "    (\n",
    "        \"system\",\n",
    "        \"You are a helpful translator. Translate the user sentence to Chinese.\",\n",
    "    ),\n",
    "    (\"human\", \"I love programming.\"),\n",
    "]\n",
    "\n",
    "llm = init_llm()\n",
    "llm.invoke(messages)"
   ]
  },
  {
   "cell_type": "markdown",
   "id": "8d45d00d",
   "metadata": {},
   "source": [
    "## manually config "
   ]
  },
  {
   "cell_type": "code",
   "execution_count": null,
   "id": "675a9521",
   "metadata": {},
   "outputs": [],
   "source": [
    "messages = [\n",
    "    (\n",
    "        \"system\",\n",
    "        \"You are a helpful translator. Translate the user sentence to Chinese.\",\n",
    "    ),\n",
    "    (\"human\", \"I love programming.\"),\n",
    "]\n",
    "\n",
    "config = LLMConfig(provider=\"openai\", model=\"gpt-4o-mini\")\n",
    "\n",
    "llm = init_llm(config=config)\n",
    "llm.invoke(messages)"
   ]
  },
  {
   "cell_type": "markdown",
   "id": "a20da4d0",
   "metadata": {},
   "source": [
    "## config with custom llm provider base_url"
   ]
  },
  {
   "cell_type": "code",
   "execution_count": null,
   "id": "55355bae",
   "metadata": {},
   "outputs": [],
   "source": [
    "messages = [\n",
    "    (\n",
    "        \"system\",\n",
    "        \"You are a helpful translator. Translate the user sentence to Chinese.\",\n",
    "    ),\n",
    "    (\"human\", \"I love programming.\"),\n",
    "]\n",
    "\n",
    "config = LLMConfig(\n",
    "    model=\"glm-4.5\",\n",
    "    base_url=\"https://open.bigmodel.cn/api/paas/v4/\",\n",
    "    api_key=os.getenv(\"BIOMINER_AI_LLM_API_KEY\"),\n",
    ")\n",
    "\n",
    "llm = init_llm(config=config)\n",
    "llm.invoke(messages)"
   ]
  },
  {
   "cell_type": "code",
   "execution_count": 2,
   "id": "336ec01a",
   "metadata": {},
   "outputs": [
    {
     "name": "stderr",
     "output_type": "stream",
     "text": [
      "WARNING:biominer_llm.config:We didn't find api_key in the config, but we found openai_api_key in the config, so we will use it.\n",
      "INFO:biominer_llm.core:Initializing LLM with config: provider='openai' model='gpt-4o-mini' temperature=0.7 max_tokens=4096 api_key=SecretStr('**********') base_url=None, it's a <class 'biominer_llm.config.LLMConfig'>\n",
      "INFO:httpx:HTTP Request: POST https://api.openai.com/v1/chat/completions \"HTTP/1.1 200 OK\"\n"
     ]
    },
    {
     "data": {
      "text/plain": [
       "AIMessage(content='我爱编程。', additional_kwargs={'refusal': None}, response_metadata={'token_usage': {'completion_tokens': 5, 'prompt_tokens': 28, 'total_tokens': 33, 'completion_tokens_details': {'accepted_prediction_tokens': 0, 'audio_tokens': 0, 'reasoning_tokens': 0, 'rejected_prediction_tokens': 0}, 'prompt_tokens_details': {'audio_tokens': 0, 'cached_tokens': 0}}, 'model_name': 'gpt-4o-mini-2024-07-18', 'system_fingerprint': 'fp_34a54ae93c', 'id': 'chatcmpl-C2SrMkKOr9ypfKriB0UbEXRUpoJjv', 'service_tier': 'default', 'finish_reason': 'stop', 'logprobs': None}, id='run--aeb2364f-d0fd-48cc-b67a-749f500e0b8d-0', usage_metadata={'input_tokens': 28, 'output_tokens': 5, 'total_tokens': 33, 'input_token_details': {'audio': 0, 'cache_read': 0}, 'output_token_details': {'audio': 0, 'reasoning': 0}})"
      ]
     },
     "execution_count": 2,
     "metadata": {},
     "output_type": "execute_result"
    }
   ],
   "source": [
    "import logging\n",
    "\n",
    "logging.basicConfig(level=logging.INFO)\n",
    "\n",
    "messages = [\n",
    "    (\n",
    "        \"system\",\n",
    "        \"You are a helpful translator. Translate the user sentence to Chinese.\",\n",
    "    ),\n",
    "    (\"human\", \"I love programming.\"),\n",
    "]\n",
    "\n",
    "llm = init_llm(LLMConfig.from_env())\n",
    "llm.invoke(messages)"
   ]
  }
 ],
 "metadata": {
  "kernelspec": {
   "display_name": "biominer-ai",
   "language": "python",
   "name": "python3"
  },
  "language_info": {
   "codemirror_mode": {
    "name": "ipython",
    "version": 3
   },
   "file_extension": ".py",
   "mimetype": "text/x-python",
   "name": "python",
   "nbconvert_exporter": "python",
   "pygments_lexer": "ipython3",
   "version": "3.11.8"
  }
 },
 "nbformat": 4,
 "nbformat_minor": 5
}
